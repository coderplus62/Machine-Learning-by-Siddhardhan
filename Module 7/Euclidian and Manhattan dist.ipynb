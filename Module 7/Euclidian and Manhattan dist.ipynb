{
 "cells": [
  {
   "cell_type": "code",
   "execution_count": 1,
   "metadata": {},
   "outputs": [],
   "source": [
    "import numpy as np"
   ]
  },
  {
   "cell_type": "markdown",
   "metadata": {},
   "source": [
    "# Calculate Euclidian distance"
   ]
  },
  {
   "cell_type": "code",
   "execution_count": 2,
   "metadata": {},
   "outputs": [],
   "source": [
    "p1 = (1,1)\n",
    "p2 = (2,2)"
   ]
  },
  {
   "cell_type": "code",
   "execution_count": 4,
   "metadata": {},
   "outputs": [
    {
     "name": "stdout",
     "output_type": "stream",
     "text": [
      "1.4142135623730951\n"
     ]
    }
   ],
   "source": [
    "dist = (p1[0] - p2[0])**2 + (p1[1] - p2[1])**2\n",
    "euclidean_dist = np.sqrt(dist)\n",
    "print(euclidean_dist)"
   ]
  },
  {
   "cell_type": "code",
   "execution_count": 5,
   "metadata": {},
   "outputs": [],
   "source": [
    "p1 = (1,1,1)\n",
    "p2 = (2,2,2)"
   ]
  },
  {
   "cell_type": "code",
   "execution_count": 6,
   "metadata": {},
   "outputs": [
    {
     "name": "stdout",
     "output_type": "stream",
     "text": [
      "1.7320508075688772\n"
     ]
    }
   ],
   "source": [
    "dist = (p1[0] - p2[0])**2 + (p1[1] - p2[1])**2 + (p1[2] - p2[2])**2\n",
    "euclidean_dist = np.sqrt(dist)\n",
    "print(euclidean_dist)"
   ]
  },
  {
   "cell_type": "code",
   "execution_count": 14,
   "metadata": {},
   "outputs": [],
   "source": [
    "p1 = (1,1,1,1)\n",
    "p2 = (2,2,2,2)\n",
    "dist = 0"
   ]
  },
  {
   "cell_type": "code",
   "execution_count": 15,
   "metadata": {},
   "outputs": [
    {
     "name": "stdout",
     "output_type": "stream",
     "text": [
      "2.0\n"
     ]
    }
   ],
   "source": [
    "for i in range(len(p1)):\n",
    "    dist = dist + (p1[i] - p2[i])**2\n",
    "euclidean_dist = np.sqrt(dist)\n",
    "print(euclidean_dist)"
   ]
  },
  {
   "cell_type": "code",
   "execution_count": 16,
   "metadata": {},
   "outputs": [],
   "source": [
    "def get_euclidean(p1, p2):\n",
    "    dist = 0\n",
    "    for i in range(len(p1)):\n",
    "        dist = dist + (p1[i] - p2[i])**2\n",
    "    euclidean_dist = np.sqrt(dist)\n",
    "    print(euclidean_dist)\n"
   ]
  },
  {
   "cell_type": "code",
   "execution_count": 17,
   "metadata": {},
   "outputs": [
    {
     "name": "stdout",
     "output_type": "stream",
     "text": [
      "2.0\n"
     ]
    }
   ],
   "source": [
    "p1 = (1,1,1,1)\n",
    "p2 = (2,2,2,2)\n",
    "\n",
    "get_euclidean(p1, p2)"
   ]
  },
  {
   "cell_type": "markdown",
   "metadata": {},
   "source": [
    "# Calculating Manhattan Distance"
   ]
  },
  {
   "cell_type": "code",
   "execution_count": 24,
   "metadata": {},
   "outputs": [],
   "source": [
    "def get_manhattan(p1, p2):\n",
    "    dist = 0\n",
    "    for i in range(len(p1)):\n",
    "        dist = dist + abs(p1[i] - p2[i])\n",
    "    manhattan = dist\n",
    "    print(manhattan)\n"
   ]
  },
  {
   "cell_type": "code",
   "execution_count": 25,
   "metadata": {},
   "outputs": [
    {
     "name": "stdout",
     "output_type": "stream",
     "text": [
      "2\n"
     ]
    }
   ],
   "source": [
    "p1 = (1,1)\n",
    "p2 = (2,2)\n",
    "\n",
    "get_manhattan(p1,p2)"
   ]
  },
  {
   "cell_type": "code",
   "execution_count": 27,
   "metadata": {},
   "outputs": [
    {
     "name": "stdout",
     "output_type": "stream",
     "text": [
      "50.640300157088326\n",
      "100.2\n"
     ]
    }
   ],
   "source": [
    "p1 = (63,1,3,145,233,1,0,150,0,2.3,0,0,1)\n",
    "p2 = (37,1,2,130,250,0,1,187,0,3.5,0,0,2)\n",
    "get_euclidean(p1,p2)\n",
    "get_manhattan(p1,p2)"
   ]
  },
  {
   "cell_type": "code",
   "execution_count": 28,
   "metadata": {},
   "outputs": [
    {
     "name": "stdout",
     "output_type": "stream",
     "text": [
      "69.54595602908914\n",
      "124.8\n"
     ]
    }
   ],
   "source": [
    "p1 = (63,1,3,145,233,1,0,150,0,2.3,0,0,1)\n",
    "p2 = (67,1,0,160,286,0,0,108,1,1.5,1,3,2)\n",
    "get_euclidean(p1,p2)\n",
    "get_manhattan(p1,p2)"
   ]
  }
 ],
 "metadata": {
  "interpreter": {
   "hash": "bc48e62289de0a21c949155adce6d5014acb45c00b6f4ddd408b23485ef5d01b"
  },
  "kernelspec": {
   "display_name": "Python 3.10.0 ('data_science')",
   "language": "python",
   "name": "python3"
  },
  "language_info": {
   "codemirror_mode": {
    "name": "ipython",
    "version": 3
   },
   "file_extension": ".py",
   "mimetype": "text/x-python",
   "name": "python",
   "nbconvert_exporter": "python",
   "pygments_lexer": "ipython3",
   "version": "3.10.0"
  },
  "orig_nbformat": 4
 },
 "nbformat": 4,
 "nbformat_minor": 2
}
