{
  "cells": [
    {
      "cell_type": "markdown",
      "metadata": {
        "id": "njFGF_Zox0N3"
      },
      "source": [
        "Importing Numpy Library"
      ]
    },
    {
      "cell_type": "code",
      "execution_count": 1,
      "metadata": {
        "id": "-eszf8anvKIN"
      },
      "outputs": [],
      "source": [
        "import numpy as np"
      ]
    },
    {
      "cell_type": "markdown",
      "metadata": {
        "id": "LWQoC194yFxQ"
      },
      "source": [
        "**Matrix Addition**"
      ]
    },
    {
      "cell_type": "markdown",
      "metadata": {
        "id": "dEehbUGCyNCw"
      },
      "source": [
        "Two Matrices can be added only if they have the same shape"
      ]
    },
    {
      "cell_type": "code",
      "execution_count": 2,
      "metadata": {
        "id": "y55LmIvZyDhD"
      },
      "outputs": [],
      "source": [
        "# creating two matrices\n",
        "\n",
        "A = np.array([[2,3],[4,5]])\n",
        "\n",
        "B = np.array([[6,7],[8,9]])"
      ]
    },
    {
      "cell_type": "code",
      "execution_count": 3,
      "metadata": {
        "colab": {
          "base_uri": "https://localhost:8080/"
        },
        "id": "ZdAndFBayp6a",
        "outputId": "4bf7494b-2595-45cd-eb3d-a14be8476fbb"
      },
      "outputs": [
        {
          "name": "stdout",
          "output_type": "stream",
          "text": [
            "[[2 3]\n",
            " [4 5]]\n"
          ]
        }
      ],
      "source": [
        "print(A)"
      ]
    },
    {
      "cell_type": "code",
      "execution_count": 4,
      "metadata": {
        "colab": {
          "base_uri": "https://localhost:8080/"
        },
        "id": "g1zU4IUKysAN",
        "outputId": "78997811-3184-4a2a-dc5f-0e9c0fcd4db2"
      },
      "outputs": [
        {
          "name": "stdout",
          "output_type": "stream",
          "text": [
            "[[6 7]\n",
            " [8 9]]\n"
          ]
        }
      ],
      "source": [
        "print(B)"
      ]
    },
    {
      "cell_type": "code",
      "execution_count": 5,
      "metadata": {
        "colab": {
          "base_uri": "https://localhost:8080/"
        },
        "id": "kNMjORlNyvOy",
        "outputId": "14f11720-3154-44d9-96ec-275bde8e23cd"
      },
      "outputs": [
        {
          "data": {
            "text/plain": [
              "(2, 2)"
            ]
          },
          "execution_count": 5,
          "metadata": {},
          "output_type": "execute_result"
        }
      ],
      "source": [
        "A.shape"
      ]
    },
    {
      "cell_type": "code",
      "execution_count": 6,
      "metadata": {
        "colab": {
          "base_uri": "https://localhost:8080/"
        },
        "id": "ThmH0iu6y1T4",
        "outputId": "f25f10b3-0970-4668-d80a-13a1f6938267"
      },
      "outputs": [
        {
          "data": {
            "text/plain": [
              "(2, 2)"
            ]
          },
          "execution_count": 6,
          "metadata": {},
          "output_type": "execute_result"
        }
      ],
      "source": [
        "B.shape"
      ]
    },
    {
      "cell_type": "markdown",
      "metadata": {
        "id": "aD3qmdGozEVu"
      },
      "source": [
        "Adding two Matrices"
      ]
    },
    {
      "cell_type": "code",
      "execution_count": 7,
      "metadata": {
        "id": "2ilMmmuGy8wm"
      },
      "outputs": [],
      "source": [
        "sum = A + B"
      ]
    },
    {
      "cell_type": "code",
      "execution_count": 8,
      "metadata": {
        "colab": {
          "base_uri": "https://localhost:8080/"
        },
        "id": "OWD4oZFSzLQN",
        "outputId": "9830382c-fe15-488b-a889-f62d872966b8"
      },
      "outputs": [
        {
          "name": "stdout",
          "output_type": "stream",
          "text": [
            "[[ 8 10]\n",
            " [12 14]]\n"
          ]
        }
      ],
      "source": [
        "print(sum)"
      ]
    },
    {
      "cell_type": "code",
      "execution_count": 9,
      "metadata": {
        "id": "8KQHo-XmzMSk"
      },
      "outputs": [],
      "source": [
        "# create two matrices with random values\n",
        "matrix_1 = np.random.randint(10, size=(3,3))\n",
        "matrix_2 = np.random.randint(20, size=(3,3))"
      ]
    },
    {
      "cell_type": "code",
      "execution_count": 10,
      "metadata": {
        "colab": {
          "base_uri": "https://localhost:8080/"
        },
        "id": "Rp93iTpSzvTI",
        "outputId": "229f0fa5-4de7-4fcd-cfc1-bc4e6729c9ff"
      },
      "outputs": [
        {
          "name": "stdout",
          "output_type": "stream",
          "text": [
            "[[8 4 5]\n",
            " [4 2 4]\n",
            " [6 6 9]]\n"
          ]
        }
      ],
      "source": [
        "print(matrix_1)"
      ]
    },
    {
      "cell_type": "code",
      "execution_count": 11,
      "metadata": {
        "colab": {
          "base_uri": "https://localhost:8080/"
        },
        "id": "3mMRWWljzw11",
        "outputId": "92831fa7-bc8f-4cca-d7fe-93e73ac521bd"
      },
      "outputs": [
        {
          "name": "stdout",
          "output_type": "stream",
          "text": [
            "[[ 1 14 19]\n",
            " [ 3  4 11]\n",
            " [ 2  3  0]]\n"
          ]
        }
      ],
      "source": [
        "print(matrix_2)"
      ]
    },
    {
      "cell_type": "code",
      "execution_count": 12,
      "metadata": {
        "id": "r44p4H4pzyc-"
      },
      "outputs": [],
      "source": [
        "sum = np.add(matrix_1, matrix_2)"
      ]
    },
    {
      "cell_type": "code",
      "execution_count": 13,
      "metadata": {
        "colab": {
          "base_uri": "https://localhost:8080/"
        },
        "id": "5KpDNB6Uz_8R",
        "outputId": "75686236-507b-4b28-d8ee-653b59b002e8"
      },
      "outputs": [
        {
          "name": "stdout",
          "output_type": "stream",
          "text": [
            "[[ 9 18 24]\n",
            " [ 7  6 15]\n",
            " [ 8  9  9]]\n"
          ]
        }
      ],
      "source": [
        "print(sum)"
      ]
    },
    {
      "cell_type": "code",
      "execution_count": 14,
      "metadata": {
        "id": "4k-9zYHA0BHP"
      },
      "outputs": [],
      "source": [
        "# create two matrices with random values\n",
        "matrix_3 = np.random.randint(10, size=(3,3))\n",
        "matrix_4 = np.random.randint(20, size=(3,4))"
      ]
    },
    {
      "cell_type": "code",
      "execution_count": 15,
      "metadata": {
        "colab": {
          "base_uri": "https://localhost:8080/",
          "height": 161
        },
        "id": "kkz5reqw0Kbi",
        "outputId": "1d713ddf-ed26-43c0-a3b2-be92ef29fd1d"
      },
      "outputs": [
        {
          "ename": "ValueError",
          "evalue": "operands could not be broadcast together with shapes (3,3) (3,4) ",
          "output_type": "error",
          "traceback": [
            "\u001b[1;31m---------------------------------------------------------------------------\u001b[0m",
            "\u001b[1;31mValueError\u001b[0m                                Traceback (most recent call last)",
            "\u001b[1;32md:\\Personal Project\\1. Programming\\1. Learning\\1. Python\\2. Machine Learning\\3. Siddhardhan\\Learning Progress\\Module 5\\5_1_9_Matrix_Operations_in_Python.ipynb Cell 19'\u001b[0m in \u001b[0;36m<cell line: 1>\u001b[1;34m()\u001b[0m\n\u001b[1;32m----> <a href='vscode-notebook-cell:/d%3A/Personal%20Project/1.%20Programming/1.%20Learning/1.%20Python/2.%20Machine%20Learning/3.%20Siddhardhan/Learning%20Progress/Module%205/5_1_9_Matrix_Operations_in_Python.ipynb#ch0000018?line=0'>1</a>\u001b[0m sum_2 \u001b[39m=\u001b[39m np\u001b[39m.\u001b[39;49madd(matrix_3, matrix_4)\n",
            "\u001b[1;31mValueError\u001b[0m: operands could not be broadcast together with shapes (3,3) (3,4) "
          ]
        }
      ],
      "source": [
        "sum_2 = np.add(matrix_3, matrix_4)"
      ]
    },
    {
      "cell_type": "markdown",
      "metadata": {
        "id": "kEDmCmRR0dHe"
      },
      "source": [
        "We get this error because shape of matrix_3 and matrix_4 are different"
      ]
    },
    {
      "cell_type": "markdown",
      "metadata": {
        "id": "Xq83epgz0kJQ"
      },
      "source": [
        "**Matrix Subtraction**"
      ]
    },
    {
      "cell_type": "code",
      "execution_count": 16,
      "metadata": {
        "id": "Pn1QFYqR0SQZ"
      },
      "outputs": [],
      "source": [
        "# creating two matrices\n",
        "\n",
        "A = np.array([[2,3],[4,5]])\n",
        "\n",
        "B = np.array([[6,7],[8,9]])"
      ]
    },
    {
      "cell_type": "code",
      "execution_count": 17,
      "metadata": {
        "colab": {
          "base_uri": "https://localhost:8080/"
        },
        "id": "7Qmyr-Q40y4b",
        "outputId": "146710b7-7215-472b-9191-4acda296f448"
      },
      "outputs": [
        {
          "name": "stdout",
          "output_type": "stream",
          "text": [
            "[[2 3]\n",
            " [4 5]]\n"
          ]
        }
      ],
      "source": [
        "print(A)"
      ]
    },
    {
      "cell_type": "code",
      "execution_count": 18,
      "metadata": {
        "colab": {
          "base_uri": "https://localhost:8080/"
        },
        "id": "jBuK9rvI00gJ",
        "outputId": "85f2ff23-6031-4cf0-dd7f-33d9889e3ede"
      },
      "outputs": [
        {
          "name": "stdout",
          "output_type": "stream",
          "text": [
            "[[6 7]\n",
            " [8 9]]\n"
          ]
        }
      ],
      "source": [
        "print(B)"
      ]
    },
    {
      "cell_type": "code",
      "execution_count": 19,
      "metadata": {
        "id": "7okhnLzd0qgL"
      },
      "outputs": [],
      "source": [
        "difference = A - B"
      ]
    },
    {
      "cell_type": "code",
      "execution_count": 20,
      "metadata": {
        "colab": {
          "base_uri": "https://localhost:8080/"
        },
        "id": "Ywz16T2O0wzU",
        "outputId": "d4e22a45-47a2-4a5d-bc91-15279f2d55f3"
      },
      "outputs": [
        {
          "name": "stdout",
          "output_type": "stream",
          "text": [
            "[[-4 -4]\n",
            " [-4 -4]]\n"
          ]
        }
      ],
      "source": [
        "print(difference)"
      ]
    },
    {
      "cell_type": "code",
      "execution_count": 21,
      "metadata": {
        "id": "Br7jm7EE04cr"
      },
      "outputs": [],
      "source": [
        "# create two matrices with random values\n",
        "matrix_1 = np.random.randint(10, size=(3,3))\n",
        "matrix_2 = np.random.randint(20, size=(3,3))"
      ]
    },
    {
      "cell_type": "code",
      "execution_count": 22,
      "metadata": {
        "colab": {
          "base_uri": "https://localhost:8080/"
        },
        "id": "FdVPoelG1D_E",
        "outputId": "597c72fb-8d82-47d8-e29a-f43a259db52e"
      },
      "outputs": [
        {
          "name": "stdout",
          "output_type": "stream",
          "text": [
            "[[3 6 1]\n",
            " [8 4 9]\n",
            " [7 9 3]]\n"
          ]
        }
      ],
      "source": [
        "print(matrix_1)"
      ]
    },
    {
      "cell_type": "code",
      "execution_count": 23,
      "metadata": {
        "colab": {
          "base_uri": "https://localhost:8080/"
        },
        "id": "Fx0sECVs1FkR",
        "outputId": "003d9d7c-312d-4401-c9c0-3de392d24595"
      },
      "outputs": [
        {
          "name": "stdout",
          "output_type": "stream",
          "text": [
            "[[ 9  5  5]\n",
            " [16  8 11]\n",
            " [ 1  0  9]]\n"
          ]
        }
      ],
      "source": [
        "print(matrix_2)"
      ]
    },
    {
      "cell_type": "code",
      "execution_count": 24,
      "metadata": {
        "id": "0_T_doPW1G6t"
      },
      "outputs": [],
      "source": [
        "diff = np.subtract(matrix_1, matrix_2)"
      ]
    },
    {
      "cell_type": "code",
      "execution_count": 25,
      "metadata": {
        "colab": {
          "base_uri": "https://localhost:8080/"
        },
        "id": "6nfnmISG1RFE",
        "outputId": "242b64ab-a0c5-4180-9cf1-0cc3161a9842"
      },
      "outputs": [
        {
          "name": "stdout",
          "output_type": "stream",
          "text": [
            "[[-6  1 -4]\n",
            " [-8 -4 -2]\n",
            " [ 6  9 -6]]\n"
          ]
        }
      ],
      "source": [
        "print(diff)"
      ]
    },
    {
      "cell_type": "markdown",
      "metadata": {
        "id": "FARh8k7E1eqi"
      },
      "source": [
        "**Multiplying a matrix by a scalar**"
      ]
    },
    {
      "cell_type": "code",
      "execution_count": 26,
      "metadata": {
        "colab": {
          "base_uri": "https://localhost:8080/"
        },
        "id": "GnCbHbMw1SIh",
        "outputId": "4fbe14d6-f5ec-431f-d521-d0895051427b"
      },
      "outputs": [
        {
          "name": "stdout",
          "output_type": "stream",
          "text": [
            "[[6 4 1 4]\n",
            " [8 1 2 4]\n",
            " [9 7 9 8]\n",
            " [3 4 1 8]]\n"
          ]
        }
      ],
      "source": [
        "x = 5\n",
        "y = np.random.randint(10, size=(4,4))\n",
        "\n",
        "print(y)"
      ]
    },
    {
      "cell_type": "code",
      "execution_count": 27,
      "metadata": {
        "id": "CzJLkFEC1z_-"
      },
      "outputs": [],
      "source": [
        "product = np.multiply(x,y)"
      ]
    },
    {
      "cell_type": "code",
      "execution_count": 28,
      "metadata": {
        "colab": {
          "base_uri": "https://localhost:8080/"
        },
        "id": "M2_Vks8-159S",
        "outputId": "e19d0b5e-acd0-40e4-e9fb-a654aa0ef016"
      },
      "outputs": [
        {
          "name": "stdout",
          "output_type": "stream",
          "text": [
            "[[30 20  5 20]\n",
            " [40  5 10 20]\n",
            " [45 35 45 40]\n",
            " [15 20  5 40]]\n"
          ]
        }
      ],
      "source": [
        "print(product)"
      ]
    },
    {
      "cell_type": "markdown",
      "metadata": {
        "id": "R57N3wn12FVL"
      },
      "source": [
        "**Multiplying 2 Matrices**"
      ]
    },
    {
      "cell_type": "code",
      "execution_count": 29,
      "metadata": {
        "id": "rXTVv3Z7177t"
      },
      "outputs": [],
      "source": [
        "# create two matrices with random values\n",
        "matrix_3 = np.random.randint(5, size=(3,3))\n",
        "matrix_4 = np.random.randint(5, size=(3,4))"
      ]
    },
    {
      "cell_type": "code",
      "execution_count": 30,
      "metadata": {
        "colab": {
          "base_uri": "https://localhost:8080/"
        },
        "id": "ROz3EoRS2yuU",
        "outputId": "189cc370-2f9a-431b-b460-8bdcff7e856d"
      },
      "outputs": [
        {
          "name": "stdout",
          "output_type": "stream",
          "text": [
            "[[0 4 4]\n",
            " [2 4 3]\n",
            " [1 3 0]]\n"
          ]
        }
      ],
      "source": [
        "print(matrix_3)"
      ]
    },
    {
      "cell_type": "code",
      "execution_count": 31,
      "metadata": {
        "colab": {
          "base_uri": "https://localhost:8080/"
        },
        "id": "zoG3ukbQ20Oe",
        "outputId": "edf50d1e-fe46-4620-e02f-9e95fbc67fe5"
      },
      "outputs": [
        {
          "name": "stdout",
          "output_type": "stream",
          "text": [
            "[[0 3 2 0]\n",
            " [3 2 2 0]\n",
            " [3 0 4 1]]\n"
          ]
        }
      ],
      "source": [
        "print(matrix_4)"
      ]
    },
    {
      "cell_type": "code",
      "execution_count": 32,
      "metadata": {
        "id": "w_6yLuPU22wI"
      },
      "outputs": [],
      "source": [
        "product = np.dot(matrix_3, matrix_4)"
      ]
    },
    {
      "cell_type": "code",
      "execution_count": 33,
      "metadata": {
        "colab": {
          "base_uri": "https://localhost:8080/"
        },
        "id": "pC-BqcFf2_La",
        "outputId": "0d2e01aa-8cbd-45a2-d40b-abeb3f12a4bc"
      },
      "outputs": [
        {
          "name": "stdout",
          "output_type": "stream",
          "text": [
            "[[24  8 24  4]\n",
            " [21 14 24  3]\n",
            " [ 9  9  8  0]]\n"
          ]
        }
      ],
      "source": [
        "print(product)"
      ]
    },
    {
      "cell_type": "code",
      "execution_count": 34,
      "metadata": {
        "colab": {
          "base_uri": "https://localhost:8080/"
        },
        "id": "KPI6v1ON3Azk",
        "outputId": "30ee2308-90a2-48df-91f2-2169ccb0bd82"
      },
      "outputs": [
        {
          "data": {
            "text/plain": [
              "(3, 4)"
            ]
          },
          "execution_count": 34,
          "metadata": {},
          "output_type": "execute_result"
        }
      ],
      "source": [
        "product.shape"
      ]
    },
    {
      "cell_type": "code",
      "execution_count": 35,
      "metadata": {
        "id": "O733iJUD3DVt"
      },
      "outputs": [],
      "source": [
        "# create two matrices with random values\n",
        "matrix_3 = np.random.randint(5, size=(3,3))\n",
        "matrix_4 = np.random.randint(5, size=(4,4))"
      ]
    },
    {
      "cell_type": "code",
      "execution_count": 36,
      "metadata": {
        "colab": {
          "base_uri": "https://localhost:8080/",
          "height": 195
        },
        "id": "UQfJFsBm3ces",
        "outputId": "ddb9075e-f6f4-45f7-b401-32b0be380ce9"
      },
      "outputs": [
        {
          "ename": "ValueError",
          "evalue": "shapes (3,3) and (4,4) not aligned: 3 (dim 1) != 4 (dim 0)",
          "output_type": "error",
          "traceback": [
            "\u001b[1;31m---------------------------------------------------------------------------\u001b[0m",
            "\u001b[1;31mValueError\u001b[0m                                Traceback (most recent call last)",
            "\u001b[1;32md:\\Personal Project\\1. Programming\\1. Learning\\1. Python\\2. Machine Learning\\3. Siddhardhan\\Learning Progress\\Module 5\\5_1_9_Matrix_Operations_in_Python.ipynb Cell 44'\u001b[0m in \u001b[0;36m<cell line: 1>\u001b[1;34m()\u001b[0m\n\u001b[1;32m----> <a href='vscode-notebook-cell:/d%3A/Personal%20Project/1.%20Programming/1.%20Learning/1.%20Python/2.%20Machine%20Learning/3.%20Siddhardhan/Learning%20Progress/Module%205/5_1_9_Matrix_Operations_in_Python.ipynb#ch0000043?line=0'>1</a>\u001b[0m product \u001b[39m=\u001b[39m np\u001b[39m.\u001b[39;49mdot(matrix_3, matrix_4)\n",
            "File \u001b[1;32m<__array_function__ internals>:180\u001b[0m, in \u001b[0;36mdot\u001b[1;34m(*args, **kwargs)\u001b[0m\n",
            "\u001b[1;31mValueError\u001b[0m: shapes (3,3) and (4,4) not aligned: 3 (dim 1) != 4 (dim 0)"
          ]
        }
      ],
      "source": [
        "product = np.dot(matrix_3, matrix_4)"
      ]
    },
    {
      "cell_type": "markdown",
      "metadata": {
        "id": "HH1UeTSu3zCK"
      },
      "source": [
        "**Element wise Matrix Multiplication**"
      ]
    },
    {
      "cell_type": "code",
      "execution_count": 37,
      "metadata": {
        "id": "3RnqdHlG3gwd"
      },
      "outputs": [],
      "source": [
        "# create two matrices with random values\n",
        "matrix_3 = np.random.randint(5, size=(3,3))\n",
        "matrix_4 = np.random.randint(5, size=(3,3))"
      ]
    },
    {
      "cell_type": "code",
      "execution_count": 38,
      "metadata": {
        "colab": {
          "base_uri": "https://localhost:8080/"
        },
        "id": "-YPbdmpH3xiS",
        "outputId": "f693ea63-b0cf-4cf7-d5b9-e7e82d4485d4"
      },
      "outputs": [
        {
          "name": "stdout",
          "output_type": "stream",
          "text": [
            "[[0 4 0]\n",
            " [2 0 2]\n",
            " [0 4 2]]\n"
          ]
        }
      ],
      "source": [
        "print(matrix_3)"
      ]
    },
    {
      "cell_type": "code",
      "execution_count": 39,
      "metadata": {
        "colab": {
          "base_uri": "https://localhost:8080/"
        },
        "id": "bL1pQHfP4A5-",
        "outputId": "325887cd-1ddc-4203-d97a-e7b029e0ae68"
      },
      "outputs": [
        {
          "name": "stdout",
          "output_type": "stream",
          "text": [
            "[[4 4 2]\n",
            " [2 2 0]\n",
            " [0 2 2]]\n"
          ]
        }
      ],
      "source": [
        "print(matrix_4)"
      ]
    },
    {
      "cell_type": "code",
      "execution_count": 40,
      "metadata": {
        "id": "qR-6E_qu4DQs"
      },
      "outputs": [],
      "source": [
        "product = np.multiply(matrix_3, matrix_4)"
      ]
    },
    {
      "cell_type": "code",
      "execution_count": 41,
      "metadata": {
        "colab": {
          "base_uri": "https://localhost:8080/"
        },
        "id": "Pl5mxpR_4Iv-",
        "outputId": "ee31d531-8cdb-4295-d7e6-1b58fd27c847"
      },
      "outputs": [
        {
          "name": "stdout",
          "output_type": "stream",
          "text": [
            "[[ 0 16  0]\n",
            " [ 4  0  0]\n",
            " [ 0  8  4]]\n"
          ]
        }
      ],
      "source": [
        "print(product)"
      ]
    },
    {
      "cell_type": "code",
      "execution_count": 42,
      "metadata": {
        "id": "7nlCi7Pz4KGK"
      },
      "outputs": [],
      "source": [
        "# create two matrices with random values\n",
        "matrix_3 = np.random.randint(5, size=(3,3))\n",
        "matrix_4 = np.random.randint(5, size=(3,4))"
      ]
    },
    {
      "cell_type": "code",
      "execution_count": 43,
      "metadata": {
        "colab": {
          "base_uri": "https://localhost:8080/",
          "height": 161
        },
        "id": "pmcwhSf54WVn",
        "outputId": "f2e3b294-f84c-4369-af7e-eaf92935e89e"
      },
      "outputs": [
        {
          "ename": "ValueError",
          "evalue": "operands could not be broadcast together with shapes (3,3) (3,4) ",
          "output_type": "error",
          "traceback": [
            "\u001b[1;31m---------------------------------------------------------------------------\u001b[0m",
            "\u001b[1;31mValueError\u001b[0m                                Traceback (most recent call last)",
            "\u001b[1;32md:\\Personal Project\\1. Programming\\1. Learning\\1. Python\\2. Machine Learning\\3. Siddhardhan\\Learning Progress\\Module 5\\5_1_9_Matrix_Operations_in_Python.ipynb Cell 52'\u001b[0m in \u001b[0;36m<cell line: 1>\u001b[1;34m()\u001b[0m\n\u001b[1;32m----> <a href='vscode-notebook-cell:/d%3A/Personal%20Project/1.%20Programming/1.%20Learning/1.%20Python/2.%20Machine%20Learning/3.%20Siddhardhan/Learning%20Progress/Module%205/5_1_9_Matrix_Operations_in_Python.ipynb#ch0000051?line=0'>1</a>\u001b[0m product \u001b[39m=\u001b[39m np\u001b[39m.\u001b[39;49mmultiply(matrix_3, matrix_4)\n",
            "\u001b[1;31mValueError\u001b[0m: operands could not be broadcast together with shapes (3,3) (3,4) "
          ]
        }
      ],
      "source": [
        "product = np.multiply(matrix_3, matrix_4)"
      ]
    },
    {
      "cell_type": "code",
      "execution_count": 45,
      "metadata": {},
      "outputs": [
        {
          "name": "stdout",
          "output_type": "stream",
          "text": [
            "[[2 0 3]\n",
            " [1 1 2]\n",
            " [2 1 0]]\n",
            "[[0 0 2]\n",
            " [0 2 4]\n",
            " [3 1 2]]\n"
          ]
        }
      ],
      "source": [
        "m1 = np.random.randint(5, size =(3,3))\n",
        "m2 = np.random.randint(5, size =(3,3))\n",
        "\n",
        "print(m1)\n",
        "print(m2)"
      ]
    },
    {
      "cell_type": "code",
      "execution_count": 47,
      "metadata": {},
      "outputs": [
        {
          "name": "stdout",
          "output_type": "stream",
          "text": [
            "[[ 0 -4  0]\n",
            " [ 0 -4  2]\n",
            " [ 2 -4 -1]]\n"
          ]
        }
      ],
      "source": [
        "cross_product = np.cross(m1,m2)\n",
        "print(cross_product)"
      ]
    },
    {
      "cell_type": "code",
      "execution_count": 48,
      "metadata": {},
      "outputs": [
        {
          "name": "stdout",
          "output_type": "stream",
          "text": [
            "(1, 1, 1)\n"
          ]
        }
      ],
      "source": [
        "v = np.array([[[1]]])\n",
        "print(v.shape)"
      ]
    }
  ],
  "metadata": {
    "colab": {
      "name": "5.1.9. Matrix Operations in Python.ipynb",
      "provenance": []
    },
    "interpreter": {
      "hash": "bc48e62289de0a21c949155adce6d5014acb45c00b6f4ddd408b23485ef5d01b"
    },
    "kernelspec": {
      "display_name": "Python 3.10.0 ('data_science')",
      "language": "python",
      "name": "python3"
    },
    "language_info": {
      "codemirror_mode": {
        "name": "ipython",
        "version": 3
      },
      "file_extension": ".py",
      "mimetype": "text/x-python",
      "name": "python",
      "nbconvert_exporter": "python",
      "pygments_lexer": "ipython3",
      "version": "3.10.0"
    }
  },
  "nbformat": 4,
  "nbformat_minor": 0
}
