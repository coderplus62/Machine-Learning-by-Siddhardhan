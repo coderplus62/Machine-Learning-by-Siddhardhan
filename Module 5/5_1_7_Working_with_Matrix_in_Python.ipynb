{
  "cells": [
    {
      "cell_type": "code",
      "execution_count": 1,
      "metadata": {
        "id": "mxuyQMry3Yym"
      },
      "outputs": [],
      "source": [
        "import numpy as np"
      ]
    },
    {
      "cell_type": "markdown",
      "metadata": {
        "id": "lfZGftA76XVa"
      },
      "source": [
        "Creating a Matrix using numpy"
      ]
    },
    {
      "cell_type": "code",
      "execution_count": 2,
      "metadata": {
        "colab": {
          "base_uri": "https://localhost:8080/"
        },
        "id": "cKOVfLda6Ug1",
        "outputId": "e52d9320-642b-42a8-b3ee-193a9602f1c0"
      },
      "outputs": [
        {
          "name": "stdout",
          "output_type": "stream",
          "text": [
            "[[2 3]\n",
            " [6 7]]\n"
          ]
        }
      ],
      "source": [
        "matrix_1 = np.array([[2,3],[6,7]])\n",
        "print(matrix_1)"
      ]
    },
    {
      "cell_type": "code",
      "execution_count": 3,
      "metadata": {
        "colab": {
          "base_uri": "https://localhost:8080/"
        },
        "id": "BXMdMXra6rYm",
        "outputId": "1db8ad03-71a1-45ac-c986-c1e214fa935b"
      },
      "outputs": [
        {
          "data": {
            "text/plain": [
              "(2, 2)"
            ]
          },
          "execution_count": 3,
          "metadata": {},
          "output_type": "execute_result"
        }
      ],
      "source": [
        "matrix_1.shape"
      ]
    },
    {
      "cell_type": "code",
      "execution_count": 4,
      "metadata": {
        "colab": {
          "base_uri": "https://localhost:8080/"
        },
        "id": "_q5Bm8ok65Qr",
        "outputId": "288082e2-8a3a-4b5e-c479-21161dd7702a"
      },
      "outputs": [
        {
          "name": "stdout",
          "output_type": "stream",
          "text": [
            "[[10 35 45]\n",
            " [50 64 80]\n",
            " [20 15 90]]\n"
          ]
        }
      ],
      "source": [
        "matrix_2 = np.array([[10,35,45],[50,64,80],[20,15,90]])\n",
        "print(matrix_2)"
      ]
    },
    {
      "cell_type": "code",
      "execution_count": 5,
      "metadata": {
        "colab": {
          "base_uri": "https://localhost:8080/"
        },
        "id": "pYFQaBrn7SxR",
        "outputId": "7b3bd521-7208-4f9d-b4d2-3bb750d4d8d5"
      },
      "outputs": [
        {
          "data": {
            "text/plain": [
              "(3, 3)"
            ]
          },
          "execution_count": 5,
          "metadata": {},
          "output_type": "execute_result"
        }
      ],
      "source": [
        "matrix_2.shape"
      ]
    },
    {
      "cell_type": "markdown",
      "metadata": {
        "id": "6RRTJPov7cMl"
      },
      "source": [
        "Creating Matrices with Random Values"
      ]
    },
    {
      "cell_type": "code",
      "execution_count": 6,
      "metadata": {
        "colab": {
          "base_uri": "https://localhost:8080/"
        },
        "id": "c5KzL2877ZLz",
        "outputId": "b0680551-90ef-41bd-d761-2dafda3cfa00"
      },
      "outputs": [
        {
          "name": "stdout",
          "output_type": "stream",
          "text": [
            "[[0.55277177 0.50388413 0.26223508]\n",
            " [0.13376443 0.14886103 0.63193472]\n",
            " [0.64264106 0.01165779 0.01900737]]\n"
          ]
        }
      ],
      "source": [
        "random_matrix = np.random.rand(3,3)\n",
        "print(random_matrix)"
      ]
    },
    {
      "cell_type": "code",
      "execution_count": 7,
      "metadata": {
        "colab": {
          "base_uri": "https://localhost:8080/"
        },
        "id": "lgzARrC-79g9",
        "outputId": "44f2b479-18b0-47ff-9bdd-2c76fa06bb8c"
      },
      "outputs": [
        {
          "name": "stdout",
          "output_type": "stream",
          "text": [
            "[[24 33 21 74 97]\n",
            " [47 49 70 82 58]\n",
            " [54 27 40 28 65]\n",
            " [15  0 39  9 61]]\n"
          ]
        }
      ],
      "source": [
        "# creating matrix with random integers\n",
        "random_integer_matrix = np.random.randint(100, size=(4,5))\n",
        "print(random_integer_matrix)"
      ]
    },
    {
      "cell_type": "markdown",
      "metadata": {
        "id": "gHbxEcmu8i13"
      },
      "source": [
        "Matrix with all the values as 1"
      ]
    },
    {
      "cell_type": "code",
      "execution_count": 8,
      "metadata": {
        "colab": {
          "base_uri": "https://localhost:8080/"
        },
        "id": "YZzOVgC98dYb",
        "outputId": "24f8a470-0a2b-41b3-d506-90f11ea7216b"
      },
      "outputs": [
        {
          "name": "stdout",
          "output_type": "stream",
          "text": [
            "[[1. 1. 1.]\n",
            " [1. 1. 1.]]\n"
          ]
        }
      ],
      "source": [
        "matrix_3 = np.ones((2,3))\n",
        "print(matrix_3)"
      ]
    },
    {
      "cell_type": "code",
      "execution_count": 9,
      "metadata": {
        "colab": {
          "base_uri": "https://localhost:8080/"
        },
        "id": "9PY4MOGm824o",
        "outputId": "574e8f5d-d1e6-4345-e8b7-be1693e77ed2"
      },
      "outputs": [
        {
          "name": "stdout",
          "output_type": "stream",
          "text": [
            "[[1 1 1]\n",
            " [1 1 1]]\n"
          ]
        }
      ],
      "source": [
        "matrix_3 = np.ones((2,3), dtype=int)\n",
        "print(matrix_3)"
      ]
    },
    {
      "cell_type": "code",
      "execution_count": 10,
      "metadata": {
        "colab": {
          "base_uri": "https://localhost:8080/"
        },
        "id": "Ecor73di9AOx",
        "outputId": "61b3de9c-6045-4251-d6ba-90e8b3399656"
      },
      "outputs": [
        {
          "name": "stdout",
          "output_type": "stream",
          "text": [
            "[[1 1 1 1 1 1 1 1 1 1]\n",
            " [1 1 1 1 1 1 1 1 1 1]\n",
            " [1 1 1 1 1 1 1 1 1 1]\n",
            " [1 1 1 1 1 1 1 1 1 1]\n",
            " [1 1 1 1 1 1 1 1 1 1]\n",
            " [1 1 1 1 1 1 1 1 1 1]\n",
            " [1 1 1 1 1 1 1 1 1 1]\n",
            " [1 1 1 1 1 1 1 1 1 1]\n",
            " [1 1 1 1 1 1 1 1 1 1]\n",
            " [1 1 1 1 1 1 1 1 1 1]]\n"
          ]
        }
      ],
      "source": [
        "matrix_3 = np.ones((10,10), dtype=int)\n",
        "print(matrix_3)"
      ]
    },
    {
      "cell_type": "markdown",
      "metadata": {
        "id": "sSpEoUsp9H5P"
      },
      "source": [
        "Null Matrix or Zero Matrix"
      ]
    },
    {
      "cell_type": "code",
      "execution_count": 11,
      "metadata": {
        "colab": {
          "base_uri": "https://localhost:8080/"
        },
        "id": "RqrEf6SW9FXP",
        "outputId": "dc988073-275c-4e46-b669-baa882978e51"
      },
      "outputs": [
        {
          "name": "stdout",
          "output_type": "stream",
          "text": [
            "[[0. 0. 0. 0.]\n",
            " [0. 0. 0. 0.]\n",
            " [0. 0. 0. 0.]\n",
            " [0. 0. 0. 0.]]\n"
          ]
        }
      ],
      "source": [
        "null_matrix = np.zeros((4,4))\n",
        "print(null_matrix)"
      ]
    },
    {
      "cell_type": "code",
      "execution_count": 12,
      "metadata": {
        "colab": {
          "base_uri": "https://localhost:8080/"
        },
        "id": "gVNSoF_29R0k",
        "outputId": "f3aaa029-2cb9-468e-dd4c-a10f50882442"
      },
      "outputs": [
        {
          "name": "stdout",
          "output_type": "stream",
          "text": [
            "[[0. 0. 0. 0. 0. 0. 0.]\n",
            " [0. 0. 0. 0. 0. 0. 0.]\n",
            " [0. 0. 0. 0. 0. 0. 0.]\n",
            " [0. 0. 0. 0. 0. 0. 0.]\n",
            " [0. 0. 0. 0. 0. 0. 0.]\n",
            " [0. 0. 0. 0. 0. 0. 0.]\n",
            " [0. 0. 0. 0. 0. 0. 0.]]\n"
          ]
        }
      ],
      "source": [
        "null_matrix = np.zeros((7,7))\n",
        "print(null_matrix)"
      ]
    },
    {
      "cell_type": "markdown",
      "metadata": {
        "id": "W4UHB30d9ZTA"
      },
      "source": [
        "Identity Matrix"
      ]
    },
    {
      "cell_type": "code",
      "execution_count": 13,
      "metadata": {
        "colab": {
          "base_uri": "https://localhost:8080/"
        },
        "id": "zJ2k1TM29VrD",
        "outputId": "e04cb4ae-872f-4ae7-8b53-3f7e15aea883"
      },
      "outputs": [
        {
          "name": "stdout",
          "output_type": "stream",
          "text": [
            "[[1. 0. 0.]\n",
            " [0. 1. 0.]\n",
            " [0. 0. 1.]]\n"
          ]
        }
      ],
      "source": [
        "identity_matrix = np.eye(3,3)\n",
        "print(identity_matrix)"
      ]
    },
    {
      "cell_type": "code",
      "execution_count": 14,
      "metadata": {
        "colab": {
          "base_uri": "https://localhost:8080/"
        },
        "id": "NPCs00109l0a",
        "outputId": "26316420-48ce-4545-f0ff-06c158f31937"
      },
      "outputs": [
        {
          "name": "stdout",
          "output_type": "stream",
          "text": [
            "[[1. 0. 0. 0. 0.]\n",
            " [0. 1. 0. 0. 0.]\n",
            " [0. 0. 1. 0. 0.]\n",
            " [0. 0. 0. 1. 0.]\n",
            " [0. 0. 0. 0. 1.]]\n"
          ]
        }
      ],
      "source": [
        "identity_matrix = np.eye(5,5)\n",
        "print(identity_matrix)"
      ]
    },
    {
      "cell_type": "markdown",
      "metadata": {
        "id": "XwHsT7xI9wJq"
      },
      "source": [
        "Transpose of a Matrix"
      ]
    },
    {
      "cell_type": "code",
      "execution_count": 15,
      "metadata": {
        "colab": {
          "base_uri": "https://localhost:8080/"
        },
        "id": "Q4IEx9CL9tEi",
        "outputId": "6834b4d0-2383-4cf5-da3b-5437a37b2383"
      },
      "outputs": [
        {
          "name": "stdout",
          "output_type": "stream",
          "text": [
            "[[45 60 17  2 85]\n",
            " [82 54  3 83 38]\n",
            " [62 49 15 66 29]\n",
            " [30 21  7 44 52]]\n"
          ]
        }
      ],
      "source": [
        "# matrix with random integer values\n",
        "a = np.random.randint(100, size=(4,5))\n",
        "print(a)"
      ]
    },
    {
      "cell_type": "code",
      "execution_count": 17,
      "metadata": {
        "colab": {
          "base_uri": "https://localhost:8080/"
        },
        "id": "XusZQzUt-C6H",
        "outputId": "a42e4bf8-88c8-4753-816a-fba00bf76e76"
      },
      "outputs": [
        {
          "name": "stdout",
          "output_type": "stream",
          "text": [
            "[[45 82 62 30]\n",
            " [60 54 49 21]\n",
            " [17  3 15  7]\n",
            " [ 2 83 66 44]\n",
            " [85 38 29 52]]\n",
            "[[45 82 62 30]\n",
            " [60 54 49 21]\n",
            " [17  3 15  7]\n",
            " [ 2 83 66 44]\n",
            " [85 38 29 52]]\n"
          ]
        }
      ],
      "source": [
        "transpose_of_a = np.transpose(a)\n",
        "print(transpose_of_a)\n",
        "print(a.T)"
      ]
    }
  ],
  "metadata": {
    "colab": {
      "name": "5.1.7. Working with Matrix in Python.ipynb",
      "provenance": []
    },
    "interpreter": {
      "hash": "bc48e62289de0a21c949155adce6d5014acb45c00b6f4ddd408b23485ef5d01b"
    },
    "kernelspec": {
      "display_name": "Python 3.10.0 ('data_science')",
      "language": "python",
      "name": "python3"
    },
    "language_info": {
      "codemirror_mode": {
        "name": "ipython",
        "version": 3
      },
      "file_extension": ".py",
      "mimetype": "text/x-python",
      "name": "python",
      "nbconvert_exporter": "python",
      "pygments_lexer": "ipython3",
      "version": "3.10.0"
    }
  },
  "nbformat": 4,
  "nbformat_minor": 0
}
