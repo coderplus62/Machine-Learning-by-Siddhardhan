{
  "cells": [
    {
      "cell_type": "code",
      "execution_count": 1,
      "metadata": {
        "id": "LgHqv0R1vIHv"
      },
      "outputs": [],
      "source": [
        "import numpy as np"
      ]
    },
    {
      "cell_type": "markdown",
      "metadata": {
        "id": "nhWLWz9U0GOq"
      },
      "source": [
        "Dot Product of 2 Vectors"
      ]
    },
    {
      "cell_type": "code",
      "execution_count": 2,
      "metadata": {
        "id": "vCdEyHssz_mY"
      },
      "outputs": [],
      "source": [
        "a = np.array([2, 3])\n",
        "\n",
        "b = np.array([4, 4])\n",
        "\n",
        "a_dot_b = np.dot(a, b)"
      ]
    },
    {
      "cell_type": "code",
      "execution_count": 3,
      "metadata": {
        "colab": {
          "base_uri": "https://localhost:8080/"
        },
        "id": "0hEwbAri0dLt",
        "outputId": "e9de1b45-e46e-402a-fa03-d17c9dac4424"
      },
      "outputs": [
        {
          "name": "stdout",
          "output_type": "stream",
          "text": [
            "20\n"
          ]
        }
      ],
      "source": [
        "print(a_dot_b)"
      ]
    },
    {
      "cell_type": "code",
      "execution_count": 4,
      "metadata": {
        "id": "D2NJE0zt0f1n"
      },
      "outputs": [],
      "source": [
        "c = np.array([40, 20, 35])\n",
        "\n",
        "d = np.array([53, 24, 68])\n",
        "\n",
        "c_dot_d = np.dot(c, d)"
      ]
    },
    {
      "cell_type": "code",
      "execution_count": 5,
      "metadata": {
        "colab": {
          "base_uri": "https://localhost:8080/"
        },
        "id": "TxI1g55E042O",
        "outputId": "dbc4b0a8-251a-4624-f9d2-0cfd1df992ac"
      },
      "outputs": [
        {
          "name": "stdout",
          "output_type": "stream",
          "text": [
            "4980\n"
          ]
        }
      ],
      "source": [
        "print(c_dot_d)"
      ]
    },
    {
      "cell_type": "markdown",
      "metadata": {
        "id": "4MxZ2N_g0-sq"
      },
      "source": [
        "Cross Product of 2 Vectors"
      ]
    },
    {
      "cell_type": "code",
      "execution_count": 6,
      "metadata": {
        "id": "5UVMFPQn06nw"
      },
      "outputs": [],
      "source": [
        "a = np.array([2, 3])\n",
        "\n",
        "b = np.array([4, 4])\n",
        "\n",
        "a_cross_b = np.cross(a, b)"
      ]
    },
    {
      "cell_type": "code",
      "execution_count": 7,
      "metadata": {
        "colab": {
          "base_uri": "https://localhost:8080/"
        },
        "id": "oNUebl251LcX",
        "outputId": "e708ef10-b8f6-468b-c023-e3647703e04b"
      },
      "outputs": [
        {
          "name": "stdout",
          "output_type": "stream",
          "text": [
            "-4\n"
          ]
        }
      ],
      "source": [
        "print(a_cross_b)"
      ]
    },
    {
      "cell_type": "code",
      "execution_count": 8,
      "metadata": {
        "id": "kNOBi0oN1WdY"
      },
      "outputs": [],
      "source": [
        "c = np.array([5, 10, 20])\n",
        "\n",
        "d = np.array([18, 32, 50])\n",
        "\n",
        "c_cross_d = np.cross(c, d)"
      ]
    },
    {
      "cell_type": "code",
      "execution_count": 9,
      "metadata": {
        "colab": {
          "base_uri": "https://localhost:8080/"
        },
        "id": "d6rGySsF1wGs",
        "outputId": "51388776-b70c-40e6-e3b3-618f5fe12b75"
      },
      "outputs": [
        {
          "name": "stdout",
          "output_type": "stream",
          "text": [
            "[-140  110  -20]\n"
          ]
        }
      ],
      "source": [
        "print(c_cross_d)"
      ]
    },
    {
      "cell_type": "markdown",
      "metadata": {
        "id": "a6Tjj91u2CZM"
      },
      "source": [
        "Projection of \"a\" vector on \"v\" vector"
      ]
    },
    {
      "cell_type": "markdown",
      "metadata": {
        "id": "ALErvZmZ2QUl"
      },
      "source": [
        "![projection of vector.png](data:image/png;base64,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)"
      ]
    },
    {
      "cell_type": "code",
      "execution_count": 10,
      "metadata": {
        "colab": {
          "base_uri": "https://localhost:8080/"
        },
        "id": "otZtJeeu10gw",
        "outputId": "984bfe77-0ba2-4da2-ef8f-9e2748005838"
      },
      "outputs": [
        {
          "name": "stdout",
          "output_type": "stream",
          "text": [
            "Projection of a vector on v vector =  [-1.12  0.84]\n"
          ]
        }
      ],
      "source": [
        "a = np.array([2, 5])\n",
        "\n",
        "v = np.array([8, -6])\n",
        "\n",
        "# magnitude of \"v\" vector\n",
        "magnitude_of_v = np.sqrt(sum(v**2))\n",
        "\n",
        "proj_of_a_on_v = (np.dot(a,v)/magnitude_of_v**2)*v \n",
        "\n",
        "print('Projection of a vector on v vector = ', proj_of_a_on_v)"
      ]
    },
    {
      "cell_type": "code",
      "execution_count": 11,
      "metadata": {
        "colab": {
          "base_uri": "https://localhost:8080/"
        },
        "id": "6by2j0Sx3WIV",
        "outputId": "8c9c4dab-43e5-43ee-dd89-6cae53cf2c53"
      },
      "outputs": [
        {
          "name": "stdout",
          "output_type": "stream",
          "text": [
            "Projection of a vector on v vector =  [30.18242937 54.99909352 44.93828373]\n"
          ]
        }
      ],
      "source": [
        "a = np.array([23, 45, 62])\n",
        "\n",
        "v = np.array([45, 82, 67])\n",
        "\n",
        "# magnitude of \"v\" vector\n",
        "magnitude_of_v = np.sqrt(sum(v**2))\n",
        "\n",
        "proj_of_a_on_v = (np.dot(a,v)/magnitude_of_v**2)*v \n",
        "\n",
        "print('Projection of a vector on v vector = ', proj_of_a_on_v)"
      ]
    }
  ],
  "metadata": {
    "colab": {
      "collapsed_sections": [],
      "name": "5.1.5. Vector Operations - in Python - Part 2.ipynb",
      "provenance": []
    },
    "interpreter": {
      "hash": "bc48e62289de0a21c949155adce6d5014acb45c00b6f4ddd408b23485ef5d01b"
    },
    "kernelspec": {
      "display_name": "Python 3.10.0 ('data_science')",
      "language": "python",
      "name": "python3"
    },
    "language_info": {
      "codemirror_mode": {
        "name": "ipython",
        "version": 3
      },
      "file_extension": ".py",
      "mimetype": "text/x-python",
      "name": "python",
      "nbconvert_exporter": "python",
      "pygments_lexer": "ipython3",
      "version": "3.10.0"
    }
  },
  "nbformat": 4,
  "nbformat_minor": 0
}
