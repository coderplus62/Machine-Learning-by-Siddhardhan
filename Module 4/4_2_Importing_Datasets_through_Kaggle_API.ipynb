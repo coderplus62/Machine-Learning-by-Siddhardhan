{
  "cells": [
    {
      "cell_type": "markdown",
      "metadata": {
        "id": "VY1GEpb4HiNh"
      },
      "source": [
        "API - Application Programming Interface"
      ]
    },
    {
      "cell_type": "code",
      "execution_count": 2,
      "metadata": {
        "colab": {
          "base_uri": "https://localhost:8080/"
        },
        "id": "B63zSIF-HhJr",
        "outputId": "fc28310c-56da-485e-e95e-67eeaa1ebc23"
      },
      "outputs": [
        {
          "name": "stdout",
          "output_type": "stream",
          "text": [
            "Requirement already satisfied: kaggle in d:\\miniconda3\\envs\\data_science\\lib\\site-packages (1.5.12)\n",
            "Requirement already satisfied: certifi in d:\\miniconda3\\envs\\data_science\\lib\\site-packages (from kaggle) (2021.5.30)\n",
            "Requirement already satisfied: requests in d:\\miniconda3\\envs\\data_science\\lib\\site-packages (from kaggle) (2.27.1)\n",
            "Requirement already satisfied: urllib3 in d:\\miniconda3\\envs\\data_science\\lib\\site-packages (from kaggle) (1.26.9)\n",
            "Requirement already satisfied: tqdm in d:\\miniconda3\\envs\\data_science\\lib\\site-packages (from kaggle) (4.64.0)\n",
            "Requirement already satisfied: python-dateutil in d:\\miniconda3\\envs\\data_science\\lib\\site-packages (from kaggle) (2.8.2)\n",
            "Requirement already satisfied: six>=1.10 in d:\\miniconda3\\envs\\data_science\\lib\\site-packages (from kaggle) (1.16.0)\n",
            "Requirement already satisfied: python-slugify in d:\\miniconda3\\envs\\data_science\\lib\\site-packages (from kaggle) (6.1.2)\n",
            "Requirement already satisfied: text-unidecode>=1.3 in d:\\miniconda3\\envs\\data_science\\lib\\site-packages (from python-slugify->kaggle) (1.3)\n",
            "Requirement already satisfied: idna<4,>=2.5 in d:\\miniconda3\\envs\\data_science\\lib\\site-packages (from requests->kaggle) (3.3)\n",
            "Requirement already satisfied: charset-normalizer~=2.0.0 in d:\\miniconda3\\envs\\data_science\\lib\\site-packages (from requests->kaggle) (2.0.12)\n",
            "Requirement already satisfied: colorama in d:\\miniconda3\\envs\\data_science\\lib\\site-packages (from tqdm->kaggle) (0.4.4)\n"
          ]
        }
      ],
      "source": [
        "# installing the Kaggle library\n",
        "!pip install kaggle"
      ]
    },
    {
      "cell_type": "markdown",
      "metadata": {
        "id": "DvywBbPPMR7p"
      },
      "source": [
        "Upload your Kaggle.json file"
      ]
    },
    {
      "cell_type": "code",
      "execution_count": 5,
      "metadata": {
        "id": "zzVfbVRJMOs5"
      },
      "outputs": [
        {
          "name": "stderr",
          "output_type": "stream",
          "text": [
            "The syntax of the command is incorrect.\n"
          ]
        }
      ],
      "source": [
        "# configuring the path of Kaggle.json file\n",
        "# !mkdir -p ~/.kaggle\n",
        "# !cp kaggle.json ~/.kaggle/\n",
        "# !chmod 600 ~/.kaggle/kaggle.json"
      ]
    },
    {
      "cell_type": "markdown",
      "metadata": {
        "id": "aYMRBfj6NV0F"
      },
      "source": [
        "Importing the Earthquake Dataset"
      ]
    },
    {
      "cell_type": "code",
      "execution_count": 4,
      "metadata": {
        "colab": {
          "base_uri": "https://localhost:8080/"
        },
        "id": "MSWENgDtNUHG",
        "outputId": "13d67e37-db51-4070-ba35-3ca0fba750a5"
      },
      "outputs": [
        {
          "name": "stderr",
          "output_type": "stream",
          "text": [
            "Traceback (most recent call last):\n",
            "  File \"D:\\miniconda3\\envs\\data_science\\lib\\runpy.py\", line 196, in _run_module_as_main\n",
            "    return _run_code(code, main_globals, None,\n",
            "  File \"D:\\miniconda3\\envs\\data_science\\lib\\runpy.py\", line 86, in _run_code\n",
            "    exec(code, run_globals)\n",
            "  File \"D:\\miniconda3\\envs\\data_science\\Scripts\\kaggle.exe\\__main__.py\", line 4, in <module>\n",
            "  File \"D:\\miniconda3\\envs\\data_science\\lib\\site-packages\\kaggle\\__init__.py\", line 23, in <module>\n",
            "    api.authenticate()\n",
            "  File \"D:\\miniconda3\\envs\\data_science\\lib\\site-packages\\kaggle\\api\\kaggle_api_extended.py\", line 164, in authenticate\n",
            "    raise IOError('Could not find {}. Make sure it\\'s located in'\n",
            "OSError: Could not find kaggle.json. Make sure it's located in C:\\Users\\Sastra\\.kaggle. Or use the environment method.\n"
          ]
        }
      ],
      "source": [
        "# API to fetch the dataset from Kaggle\n",
        "# !kaggle competitions download -c LANL-Earthquake-Prediction"
      ]
    },
    {
      "cell_type": "code",
      "execution_count": null,
      "metadata": {
        "colab": {
          "base_uri": "https://localhost:8080/"
        },
        "id": "AxFD302lNj30",
        "outputId": "339a7424-6840-40b4-f757-e33c3097147a"
      },
      "outputs": [
        {
          "name": "stdout",
          "output_type": "stream",
          "text": [
            "The dataset is extracted\n"
          ]
        }
      ],
      "source": [
        "# extracting the compessed Dataset\n",
        "from zipfile import ZipFile\n",
        "dataset = '/content/train.csv.zip'\n",
        "\n",
        "with ZipFile(dataset,'r') as zip:\n",
        "  zip.extractall()\n",
        "  print('The dataset is extracted')"
      ]
    }
  ],
  "metadata": {
    "colab": {
      "name": "4.2. Importing Datasets through Kaggle API.ipynb",
      "provenance": []
    },
    "interpreter": {
      "hash": "bc48e62289de0a21c949155adce6d5014acb45c00b6f4ddd408b23485ef5d01b"
    },
    "kernelspec": {
      "display_name": "Python 3.10.0 ('data_science')",
      "language": "python",
      "name": "python3"
    },
    "language_info": {
      "codemirror_mode": {
        "name": "ipython",
        "version": 3
      },
      "file_extension": ".py",
      "mimetype": "text/x-python",
      "name": "python",
      "nbconvert_exporter": "python",
      "pygments_lexer": "ipython3",
      "version": "3.10.0"
    }
  },
  "nbformat": 4,
  "nbformat_minor": 0
}
