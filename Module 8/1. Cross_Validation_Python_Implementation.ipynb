{
  "cells": [
    {
      "cell_type": "markdown",
      "metadata": {
        "id": "1qbu9h-el72-"
      },
      "source": [
        "**Video Link:**\n",
        "\n",
        "K-Fold cross validation - concept ideo: https://youtu.be/dkd1eeaXbJA"
      ]
    },
    {
      "cell_type": "markdown",
      "metadata": {
        "id": "bFJFyzowbp1A"
      },
      "source": [
        "Importing the Dependencies"
      ]
    },
    {
      "cell_type": "code",
      "execution_count": 1,
      "metadata": {
        "id": "cY2Jyn1jbnPb"
      },
      "outputs": [],
      "source": [
        "import numpy as np\n",
        "import pandas as pd\n",
        "from sklearn.model_selection import train_test_split\n",
        "from sklearn.model_selection import cross_val_score\n",
        "from sklearn.metrics import accuracy_score"
      ]
    },
    {
      "cell_type": "markdown",
      "metadata": {
        "id": "t_yFbxn0ci3f"
      },
      "source": [
        "Importing the models"
      ]
    },
    {
      "cell_type": "code",
      "execution_count": 2,
      "metadata": {
        "id": "eq2pMIzlbbqI"
      },
      "outputs": [],
      "source": [
        "from sklearn.linear_model import LogisticRegression\n",
        "from sklearn.svm import SVC\n",
        "from sklearn.neighbors import KNeighborsClassifier\n",
        "from sklearn.ensemble import RandomForestClassifier"
      ]
    },
    {
      "cell_type": "markdown",
      "metadata": {
        "id": "egMd5zeurTMR"
      },
      "source": [
        "Data Collection and Processing"
      ]
    },
    {
      "cell_type": "code",
      "execution_count": 4,
      "metadata": {
        "id": "0q-3-LkQrREV"
      },
      "outputs": [],
      "source": [
        "# loading the csv data to a Pandas DataFrame\n",
        "heart_data = pd.read_csv('heart.csv')"
      ]
    },
    {
      "cell_type": "code",
      "execution_count": 5,
      "metadata": {
        "colab": {
          "base_uri": "https://localhost:8080/",
          "height": 206
        },
        "id": "M8dQxSTqriWD",
        "outputId": "7ab56250-3739-413e-9f62-09491ddadf89"
      },
      "outputs": [
        {
          "data": {
            "text/html": [
              "<div>\n",
              "<style scoped>\n",
              "    .dataframe tbody tr th:only-of-type {\n",
              "        vertical-align: middle;\n",
              "    }\n",
              "\n",
              "    .dataframe tbody tr th {\n",
              "        vertical-align: top;\n",
              "    }\n",
              "\n",
              "    .dataframe thead th {\n",
              "        text-align: right;\n",
              "    }\n",
              "</style>\n",
              "<table border=\"1\" class=\"dataframe\">\n",
              "  <thead>\n",
              "    <tr style=\"text-align: right;\">\n",
              "      <th></th>\n",
              "      <th>age</th>\n",
              "      <th>sex</th>\n",
              "      <th>cp</th>\n",
              "      <th>trestbps</th>\n",
              "      <th>chol</th>\n",
              "      <th>fbs</th>\n",
              "      <th>restecg</th>\n",
              "      <th>thalach</th>\n",
              "      <th>exang</th>\n",
              "      <th>oldpeak</th>\n",
              "      <th>slope</th>\n",
              "      <th>ca</th>\n",
              "      <th>thal</th>\n",
              "      <th>target</th>\n",
              "    </tr>\n",
              "  </thead>\n",
              "  <tbody>\n",
              "    <tr>\n",
              "      <th>0</th>\n",
              "      <td>63</td>\n",
              "      <td>1</td>\n",
              "      <td>3</td>\n",
              "      <td>145</td>\n",
              "      <td>233</td>\n",
              "      <td>1</td>\n",
              "      <td>0</td>\n",
              "      <td>150</td>\n",
              "      <td>0</td>\n",
              "      <td>2.3</td>\n",
              "      <td>0</td>\n",
              "      <td>0</td>\n",
              "      <td>1</td>\n",
              "      <td>1</td>\n",
              "    </tr>\n",
              "    <tr>\n",
              "      <th>1</th>\n",
              "      <td>37</td>\n",
              "      <td>1</td>\n",
              "      <td>2</td>\n",
              "      <td>130</td>\n",
              "      <td>250</td>\n",
              "      <td>0</td>\n",
              "      <td>1</td>\n",
              "      <td>187</td>\n",
              "      <td>0</td>\n",
              "      <td>3.5</td>\n",
              "      <td>0</td>\n",
              "      <td>0</td>\n",
              "      <td>2</td>\n",
              "      <td>1</td>\n",
              "    </tr>\n",
              "    <tr>\n",
              "      <th>2</th>\n",
              "      <td>41</td>\n",
              "      <td>0</td>\n",
              "      <td>1</td>\n",
              "      <td>130</td>\n",
              "      <td>204</td>\n",
              "      <td>0</td>\n",
              "      <td>0</td>\n",
              "      <td>172</td>\n",
              "      <td>0</td>\n",
              "      <td>1.4</td>\n",
              "      <td>2</td>\n",
              "      <td>0</td>\n",
              "      <td>2</td>\n",
              "      <td>1</td>\n",
              "    </tr>\n",
              "    <tr>\n",
              "      <th>3</th>\n",
              "      <td>56</td>\n",
              "      <td>1</td>\n",
              "      <td>1</td>\n",
              "      <td>120</td>\n",
              "      <td>236</td>\n",
              "      <td>0</td>\n",
              "      <td>1</td>\n",
              "      <td>178</td>\n",
              "      <td>0</td>\n",
              "      <td>0.8</td>\n",
              "      <td>2</td>\n",
              "      <td>0</td>\n",
              "      <td>2</td>\n",
              "      <td>1</td>\n",
              "    </tr>\n",
              "    <tr>\n",
              "      <th>4</th>\n",
              "      <td>57</td>\n",
              "      <td>0</td>\n",
              "      <td>0</td>\n",
              "      <td>120</td>\n",
              "      <td>354</td>\n",
              "      <td>0</td>\n",
              "      <td>1</td>\n",
              "      <td>163</td>\n",
              "      <td>1</td>\n",
              "      <td>0.6</td>\n",
              "      <td>2</td>\n",
              "      <td>0</td>\n",
              "      <td>2</td>\n",
              "      <td>1</td>\n",
              "    </tr>\n",
              "  </tbody>\n",
              "</table>\n",
              "</div>"
            ],
            "text/plain": [
              "   age  sex  cp  trestbps  chol  fbs  restecg  thalach  exang  oldpeak  slope  \\\n",
              "0   63    1   3       145   233    1        0      150      0      2.3      0   \n",
              "1   37    1   2       130   250    0        1      187      0      3.5      0   \n",
              "2   41    0   1       130   204    0        0      172      0      1.4      2   \n",
              "3   56    1   1       120   236    0        1      178      0      0.8      2   \n",
              "4   57    0   0       120   354    0        1      163      1      0.6      2   \n",
              "\n",
              "   ca  thal  target  \n",
              "0   0     1       1  \n",
              "1   0     2       1  \n",
              "2   0     2       1  \n",
              "3   0     2       1  \n",
              "4   0     2       1  "
            ]
          },
          "execution_count": 5,
          "metadata": {},
          "output_type": "execute_result"
        }
      ],
      "source": [
        "# print first 5 rows of the dataset\n",
        "heart_data.head()"
      ]
    },
    {
      "cell_type": "code",
      "execution_count": 6,
      "metadata": {
        "colab": {
          "base_uri": "https://localhost:8080/"
        },
        "id": "8nX1tIzbrz0u",
        "outputId": "f0bfe5c2-e1a7-4694-bba8-f2168ce63928"
      },
      "outputs": [
        {
          "data": {
            "text/plain": [
              "(303, 14)"
            ]
          },
          "execution_count": 6,
          "metadata": {},
          "output_type": "execute_result"
        }
      ],
      "source": [
        "# number of rows and columns in the dataset\n",
        "heart_data.shape"
      ]
    },
    {
      "cell_type": "code",
      "execution_count": 7,
      "metadata": {
        "colab": {
          "base_uri": "https://localhost:8080/"
        },
        "id": "GjHtW31rsGlb",
        "outputId": "f55c6b6d-3cc4-473c-df00-177229a6ec12"
      },
      "outputs": [
        {
          "data": {
            "text/plain": [
              "age         0\n",
              "sex         0\n",
              "cp          0\n",
              "trestbps    0\n",
              "chol        0\n",
              "fbs         0\n",
              "restecg     0\n",
              "thalach     0\n",
              "exang       0\n",
              "oldpeak     0\n",
              "slope       0\n",
              "ca          0\n",
              "thal        0\n",
              "target      0\n",
              "dtype: int64"
            ]
          },
          "execution_count": 7,
          "metadata": {},
          "output_type": "execute_result"
        }
      ],
      "source": [
        "# checking for missing values\n",
        "heart_data.isnull().sum()"
      ]
    },
    {
      "cell_type": "code",
      "execution_count": 8,
      "metadata": {
        "colab": {
          "base_uri": "https://localhost:8080/"
        },
        "id": "4InaOSIUsfWP",
        "outputId": "a508875a-712b-4987-c459-57efe941bc14"
      },
      "outputs": [
        {
          "data": {
            "text/plain": [
              "1    165\n",
              "0    138\n",
              "Name: target, dtype: int64"
            ]
          },
          "execution_count": 8,
          "metadata": {},
          "output_type": "execute_result"
        }
      ],
      "source": [
        "# checking the distribution of Target Variable\n",
        "heart_data['target'].value_counts()"
      ]
    },
    {
      "cell_type": "markdown",
      "metadata": {
        "id": "aSOBu4qDtJy5"
      },
      "source": [
        "1 --> Defective Heart\n",
        "\n",
        "0 --> Healthy Heart"
      ]
    },
    {
      "cell_type": "markdown",
      "metadata": {
        "id": "tW8i4igjtPRC"
      },
      "source": [
        "Splitting the Features and Target"
      ]
    },
    {
      "cell_type": "code",
      "execution_count": 9,
      "metadata": {
        "id": "Q6yfbswrs7m3"
      },
      "outputs": [],
      "source": [
        "X = heart_data.drop(columns='target', axis=1)\n",
        "Y = heart_data['target']"
      ]
    },
    {
      "cell_type": "code",
      "execution_count": 10,
      "metadata": {
        "colab": {
          "base_uri": "https://localhost:8080/"
        },
        "id": "XJoCp4ZKtpZy",
        "outputId": "f12ada00-3c4f-4372-b334-72d44bd46abc"
      },
      "outputs": [
        {
          "name": "stdout",
          "output_type": "stream",
          "text": [
            "     age  sex  cp  trestbps  chol  fbs  restecg  thalach  exang  oldpeak  \\\n",
            "0     63    1   3       145   233    1        0      150      0      2.3   \n",
            "1     37    1   2       130   250    0        1      187      0      3.5   \n",
            "2     41    0   1       130   204    0        0      172      0      1.4   \n",
            "3     56    1   1       120   236    0        1      178      0      0.8   \n",
            "4     57    0   0       120   354    0        1      163      1      0.6   \n",
            "..   ...  ...  ..       ...   ...  ...      ...      ...    ...      ...   \n",
            "298   57    0   0       140   241    0        1      123      1      0.2   \n",
            "299   45    1   3       110   264    0        1      132      0      1.2   \n",
            "300   68    1   0       144   193    1        1      141      0      3.4   \n",
            "301   57    1   0       130   131    0        1      115      1      1.2   \n",
            "302   57    0   1       130   236    0        0      174      0      0.0   \n",
            "\n",
            "     slope  ca  thal  \n",
            "0        0   0     1  \n",
            "1        0   0     2  \n",
            "2        2   0     2  \n",
            "3        2   0     2  \n",
            "4        2   0     2  \n",
            "..     ...  ..   ...  \n",
            "298      1   0     3  \n",
            "299      1   0     3  \n",
            "300      1   2     3  \n",
            "301      1   1     3  \n",
            "302      1   1     2  \n",
            "\n",
            "[303 rows x 13 columns]\n"
          ]
        }
      ],
      "source": [
        "print(X)"
      ]
    },
    {
      "cell_type": "code",
      "execution_count": 11,
      "metadata": {
        "colab": {
          "base_uri": "https://localhost:8080/"
        },
        "id": "nukuj-YItq1w",
        "outputId": "6f3ffab4-3273-4cb3-e28f-4a12bdd57695"
      },
      "outputs": [
        {
          "name": "stdout",
          "output_type": "stream",
          "text": [
            "0      1\n",
            "1      1\n",
            "2      1\n",
            "3      1\n",
            "4      1\n",
            "      ..\n",
            "298    0\n",
            "299    0\n",
            "300    0\n",
            "301    0\n",
            "302    0\n",
            "Name: target, Length: 303, dtype: int64\n"
          ]
        }
      ],
      "source": [
        "print(Y)"
      ]
    },
    {
      "cell_type": "markdown",
      "metadata": {
        "id": "aC6gnrWKmLkt"
      },
      "source": [
        "#**Train Test Split**"
      ]
    },
    {
      "cell_type": "code",
      "execution_count": 12,
      "metadata": {
        "id": "r3YeSH60mNkI"
      },
      "outputs": [],
      "source": [
        "X_train, X_test, Y_train, Y_test = train_test_split(X, Y, test_size=0.2, stratify = Y, random_state=3)"
      ]
    },
    {
      "cell_type": "code",
      "execution_count": 13,
      "metadata": {
        "colab": {
          "base_uri": "https://localhost:8080/"
        },
        "id": "Cu0IQu4R5DUi",
        "outputId": "e79e8d4e-d001-49ca-8815-f37881c6d3ba"
      },
      "outputs": [
        {
          "name": "stdout",
          "output_type": "stream",
          "text": [
            "(303, 13) (242, 13) (61, 13)\n"
          ]
        }
      ],
      "source": [
        "print(X.shape, X_train.shape, X_test.shape)"
      ]
    },
    {
      "cell_type": "markdown",
      "metadata": {
        "id": "YJGEFKbL6Xgz"
      },
      "source": [
        "Comparing the performance of the models"
      ]
    },
    {
      "cell_type": "code",
      "execution_count": 14,
      "metadata": {
        "id": "FFYBrujx6He7"
      },
      "outputs": [],
      "source": [
        "# list of models\n",
        "models = [LogisticRegression(max_iter=1000), SVC(kernel='linear'), KNeighborsClassifier(), RandomForestClassifier()]"
      ]
    },
    {
      "cell_type": "code",
      "execution_count": 15,
      "metadata": {
        "id": "RBN8lQVj6x0g"
      },
      "outputs": [],
      "source": [
        "def compare_models_train_test():\n",
        "\n",
        "  for model in models:\n",
        "\n",
        "    # training the model\n",
        "    model.fit(X_train, Y_train)\n",
        "    \n",
        "    # evaluating the model\n",
        "    test_data_prediction = model.predict(X_test)\n",
        "\n",
        "    accuracy = accuracy_score(Y_test, test_data_prediction)\n",
        "\n",
        "    print('Accuracy score of the ', model, ' = ', accuracy)\n",
        "\n"
      ]
    },
    {
      "cell_type": "code",
      "execution_count": 16,
      "metadata": {
        "colab": {
          "base_uri": "https://localhost:8080/"
        },
        "id": "35fIR_v_7Qt_",
        "outputId": "bff483fc-4fbb-417f-90c0-5b11b75dbfa8"
      },
      "outputs": [
        {
          "name": "stdout",
          "output_type": "stream",
          "text": [
            "Accuracy score of the  LogisticRegression(max_iter=1000)  =  0.7868852459016393\n",
            "Accuracy score of the  SVC(kernel='linear')  =  0.7704918032786885\n",
            "Accuracy score of the  KNeighborsClassifier()  =  0.6557377049180327\n",
            "Accuracy score of the  RandomForestClassifier()  =  0.8032786885245902\n"
          ]
        }
      ],
      "source": [
        "compare_models_train_test()"
      ]
    },
    {
      "cell_type": "markdown",
      "metadata": {
        "id": "Wf783hX19fwN"
      },
      "source": [
        "#**Cross Validation**"
      ]
    },
    {
      "cell_type": "markdown",
      "metadata": {
        "id": "cpRlz36P9vfe"
      },
      "source": [
        "Logistic Regression"
      ]
    },
    {
      "cell_type": "code",
      "execution_count": 17,
      "metadata": {
        "colab": {
          "base_uri": "https://localhost:8080/"
        },
        "id": "fIkZCHab746J",
        "outputId": "891b5b92-0339-4a96-8541-322084317ee3"
      },
      "outputs": [
        {
          "name": "stdout",
          "output_type": "stream",
          "text": [
            "[0.80327869 0.86885246 0.85245902 0.86666667 0.75      ]\n",
            "82.83\n"
          ]
        }
      ],
      "source": [
        "cv_score_lr = cross_val_score(LogisticRegression(max_iter=1000), X, Y, cv=5)\n",
        "\n",
        "print(cv_score_lr)\n",
        "\n",
        "mean_accuracy_lr = sum(cv_score_lr)/len(cv_score_lr)\n",
        "\n",
        "mean_accuracy_lr = mean_accuracy_lr*100\n",
        "\n",
        "mean_accuracy_lr = round(mean_accuracy_lr, 2)\n",
        "\n",
        "print(mean_accuracy_lr)"
      ]
    },
    {
      "cell_type": "markdown",
      "metadata": {
        "id": "RA7W2es0AFD3"
      },
      "source": [
        "Support Vector Classifier"
      ]
    },
    {
      "cell_type": "code",
      "execution_count": 18,
      "metadata": {
        "colab": {
          "base_uri": "https://localhost:8080/"
        },
        "id": "nNCZfeSe-0oZ",
        "outputId": "4e79257f-c77f-4d9c-e967-b3641ef86454"
      },
      "outputs": [
        {
          "name": "stdout",
          "output_type": "stream",
          "text": [
            "[0.81967213 0.8852459  0.80327869 0.86666667 0.76666667]\n",
            "82.83\n"
          ]
        }
      ],
      "source": [
        "cv_score_svc = cross_val_score(SVC(kernel='linear'), X, Y, cv=5)\n",
        "\n",
        "print(cv_score_svc)\n",
        "\n",
        "mean_accuracy_svc = sum(cv_score_svc)/len(cv_score_svc)\n",
        "\n",
        "mean_accuracy_svc = mean_accuracy_svc*100\n",
        "\n",
        "mean_accuracy_svc = round(mean_accuracy_svc, 2)\n",
        "\n",
        "print(mean_accuracy_svc)"
      ]
    },
    {
      "cell_type": "markdown",
      "metadata": {
        "id": "PlM83YyPApq_"
      },
      "source": [
        "Creating a Function to compare the models"
      ]
    },
    {
      "cell_type": "code",
      "execution_count": 19,
      "metadata": {
        "id": "uyAZczwYAT3f"
      },
      "outputs": [],
      "source": [
        "# list of models\n",
        "models = [LogisticRegression(max_iter=1000), SVC(kernel='linear'), KNeighborsClassifier(), RandomForestClassifier()]"
      ]
    },
    {
      "cell_type": "code",
      "execution_count": 21,
      "metadata": {
        "id": "AWfa55OKAygv"
      },
      "outputs": [],
      "source": [
        "def compare_models_cross_validation():\n",
        "\n",
        "  for model in models:\n",
        "\n",
        "    cv_score = cross_val_score(model, X,Y, cv=5)\n",
        "    \n",
        "    mean_accuracy = sum(cv_score)/len(cv_score)\n",
        "\n",
        "    mean_accuracy = mean_accuracy*100\n",
        "\n",
        "    mean_accuracy = round(mean_accuracy, 2)\n",
        "\n",
        "    print('Cross Validation accuracies for ', model, '=  ', cv_score)\n",
        "    print('Accuracy % of the ', model, mean_accuracy)\n",
        "    print('----------------------------------------------')\n"
      ]
    },
    {
      "cell_type": "code",
      "execution_count": 22,
      "metadata": {
        "colab": {
          "base_uri": "https://localhost:8080/"
        },
        "id": "QaCp6U_cBvVM",
        "outputId": "0591db43-6a2c-4329-840d-04f3ae721d17"
      },
      "outputs": [
        {
          "name": "stdout",
          "output_type": "stream",
          "text": [
            "Cross Validation accuracies for  LogisticRegression(max_iter=1000) =   [0.80327869 0.86885246 0.85245902 0.86666667 0.75      ]\n",
            "Accuracy % of the  LogisticRegression(max_iter=1000) 82.83\n",
            "----------------------------------------------\n",
            "Cross Validation accuracies for  SVC(kernel='linear') =   [0.81967213 0.8852459  0.80327869 0.86666667 0.76666667]\n",
            "Accuracy % of the  SVC(kernel='linear') 82.83\n",
            "----------------------------------------------\n",
            "Cross Validation accuracies for  KNeighborsClassifier() =   [0.60655738 0.6557377  0.57377049 0.73333333 0.65      ]\n",
            "Accuracy % of the  KNeighborsClassifier() 64.39\n",
            "----------------------------------------------\n",
            "Cross Validation accuracies for  RandomForestClassifier() =   [0.83606557 0.8852459  0.81967213 0.81666667 0.75      ]\n",
            "Accuracy % of the  RandomForestClassifier() 82.15\n",
            "----------------------------------------------\n"
          ]
        }
      ],
      "source": [
        "compare_models_cross_validation()"
      ]
    }
  ],
  "metadata": {
    "colab": {
      "collapsed_sections": [],
      "name": "8.2. Cross Validation - Python Implementation.ipynb",
      "provenance": []
    },
    "interpreter": {
      "hash": "bc48e62289de0a21c949155adce6d5014acb45c00b6f4ddd408b23485ef5d01b"
    },
    "kernelspec": {
      "display_name": "Python 3.10.0 ('data_science')",
      "language": "python",
      "name": "python3"
    },
    "language_info": {
      "codemirror_mode": {
        "name": "ipython",
        "version": 3
      },
      "file_extension": ".py",
      "mimetype": "text/x-python",
      "name": "python",
      "nbconvert_exporter": "python",
      "pygments_lexer": "ipython3",
      "version": "3.10.0"
    }
  },
  "nbformat": 4,
  "nbformat_minor": 0
}
